{
  "nbformat": 4,
  "nbformat_minor": 0,
  "metadata": {
    "colab": {
      "provenance": [],
      "gpuType": "T4",
      "include_colab_link": true
    },
    "kernelspec": {
      "display_name": "Python 3",
      "name": "python3"
    },
    "language_info": {
      "codemirror_mode": {
        "name": "ipython",
        "version": 3
      },
      "file_extension": ".py",
      "mimetype": "text/x-python",
      "name": "python",
      "nbconvert_exporter": "python",
      "pygments_lexer": "ipython3",
      "version": "3.8.3"
    },
    "accelerator": "GPU"
  },
  "cells": [
    {
      "cell_type": "markdown",
      "metadata": {
        "id": "view-in-github",
        "colab_type": "text"
      },
      "source": [
        "<a href=\"https://colab.research.google.com/github/KimDukJung/morp/blob/main/2_2_%ED%98%95%ED%83%9C%EC%86%8C_%EB%B6%84%EC%84%9D%EA%B8%B0_%EC%82%AC%EC%A0%84_%ED%99%9C%EC%9A%A9_%EC%8B%A4%EC%8A%B5%ED%95%98%EA%B8%B0.ipynb\" target=\"_parent\"><img src=\"https://colab.research.google.com/assets/colab-badge.svg\" alt=\"Open In Colab\"/></a>"
      ]
    },
    {
      "cell_type": "markdown",
      "metadata": {
        "id": "wn9K0CoCdG5B"
      },
      "source": [
        "### 형태소 분석기 사전 활용\n"
      ]
    },
    {
      "cell_type": "markdown",
      "metadata": {
        "id": "qWK4me1AlZAF"
      },
      "source": []
    },
    {
      "cell_type": "markdown",
      "metadata": {
        "id": "-ahG-_GmdG5D"
      },
      "source": [
        "---"
      ]
    },
    {
      "cell_type": "code",
      "metadata": {
        "id": "tZGN7A9CilCt"
      },
      "source": [
        "text = \"\"\"최근 정부 주도 디지털뉴딜 사업인 확장현실(XR) 메타버스 프로젝트는 증강현실(AR) 플랫폼 분야의 주도 기업이 추진할 것으로 예상된다.\"\"\""
      ],
      "execution_count": null,
      "outputs": []
    },
    {
      "cell_type": "code",
      "metadata": {
        "colab": {
          "base_uri": "https://localhost:8080/"
        },
        "id": "EkUTZJ_axov9",
        "outputId": "9983e8ce-d93b-4558-80a6-e19010dbf199"
      },
      "source": [
        "!pip install koalanlp"
      ],
      "execution_count": null,
      "outputs": [
        {
          "output_type": "stream",
          "name": "stdout",
          "text": [
            "Requirement already satisfied: koalanlp in /usr/local/lib/python3.10/dist-packages (2.1.7)\n",
            "Requirement already satisfied: py4j~=0.10 in /usr/local/lib/python3.10/dist-packages (from koalanlp) (0.10.9.7)\n",
            "Requirement already satisfied: requests~=2.22 in /usr/local/lib/python3.10/dist-packages (from koalanlp) (2.32.3)\n",
            "Requirement already satisfied: kss~=2.5.1 in /usr/local/lib/python3.10/dist-packages (from koalanlp) (2.5.1)\n",
            "Requirement already satisfied: charset-normalizer<4,>=2 in /usr/local/lib/python3.10/dist-packages (from requests~=2.22->koalanlp) (3.4.0)\n",
            "Requirement already satisfied: idna<4,>=2.5 in /usr/local/lib/python3.10/dist-packages (from requests~=2.22->koalanlp) (3.10)\n",
            "Requirement already satisfied: urllib3<3,>=1.21.1 in /usr/local/lib/python3.10/dist-packages (from requests~=2.22->koalanlp) (2.2.3)\n",
            "Requirement already satisfied: certifi>=2017.4.17 in /usr/local/lib/python3.10/dist-packages (from requests~=2.22->koalanlp) (2024.8.30)\n"
          ]
        }
      ]
    },
    {
      "cell_type": "code",
      "metadata": {
        "id": "ZxkD482WxxTe"
      },
      "source": [
        "from koalanlp.Util import initialize, finalize\n",
        "from koalanlp.proc import *\n",
        "from koalanlp import API"
      ],
      "execution_count": null,
      "outputs": []
    },
    {
      "cell_type": "code",
      "source": [
        "!pip install klaxon"
      ],
      "metadata": {
        "colab": {
          "base_uri": "https://localhost:8080/"
        },
        "id": "RX5mvOi7GzdP",
        "outputId": "690c2411-22a4-4f8d-c605-5514ea80dfa4"
      },
      "execution_count": null,
      "outputs": [
        {
          "output_type": "stream",
          "name": "stdout",
          "text": [
            "Requirement already satisfied: klaxon in /usr/local/lib/python3.10/dist-packages (1.1.1)\n",
            "Requirement already satisfied: toml<0.11.0,>=0.10.0 in /usr/local/lib/python3.10/dist-packages (from klaxon) (0.10.2)\n"
          ]
        }
      ]
    },
    {
      "cell_type": "code",
      "metadata": {
        "id": "R_ffGhXgoiyV"
      },
      "source": [
        "import klaxon"
      ],
      "execution_count": null,
      "outputs": []
    },
    {
      "cell_type": "code",
      "metadata": {
        "colab": {
          "base_uri": "https://localhost:8080/"
        },
        "id": "PYl5F-Xyx8lW",
        "outputId": "d80d120f-b23b-4ab6-f561-587fce8cf2e7"
      },
      "source": [
        "initialize(java_options=\"-Xmx4g -Dfile.encoding=utf-8 -Dartifact=com.beust:klaxon:5.5\", EUNJEON=\"LATEST\", ETRI=\"LATEST\", force_download=True)"
      ],
      "execution_count": null,
      "outputs": [
        {
          "output_type": "stream",
          "name": "stderr",
          "text": [
            "WARNING:koalanlp.jip:[Warning] Artifact is not found: com.beust:klaxon:5.2\n"
          ]
        }
      ]
    },
    {
      "cell_type": "code",
      "metadata": {
        "id": "f6vMvZQ5yAbS",
        "colab": {
          "base_uri": "https://localhost:8080/"
        },
        "outputId": "c1e82a09-7502-473d-d7b2-bb1c72ff33fa"
      },
      "source": [
        "tagger = Tagger(API.EUNJEON)\n",
        "\n",
        "tagged = tagger.tag(text)\n",
        "\n",
        "print(tagged[0].singleLineString())"
      ],
      "execution_count": null,
      "outputs": [
        {
          "output_type": "stream",
          "name": "stdout",
          "text": [
            "최근/NNG 정부/NNG 주도/NNG 디지털/NNG 뉴딜/NNG 사업/NNG+이/VCP+ᆫ/ETM 확장/NNG 현실/NNG (/SS XR/SL )/SS 메타/NNG 버스/NNG 프로젝트/NNG+는/JX 증강/NNG+현실/NNG (/SS AR/SL )/SS 플랫폼/NNG 분야/NNG+의/JKG 주도/NNG 기업/NNG+이/JKS 추진/NNG+하/XSV+ᆯ/ETM 것/NNB+으로/JKB 예상/NNG+되/XSV+ᆫ다/EF ./SF\n"
          ]
        }
      ]
    },
    {
      "cell_type": "code",
      "metadata": {
        "id": "i-Qv_HqozG39"
      },
      "source": [
        "# tagger = Tagger(API.ETRI, etri_key='')   # https://aiopen.etri.re.kr/keycreation\n",
        "\n",
        "# tagged = tagger.tag(text)\n",
        "\n",
        "# print(tagged[0].singleLineString())"
      ],
      "execution_count": null,
      "outputs": []
    },
    {
      "cell_type": "code",
      "metadata": {
        "id": "AjjWRdS51RVM",
        "colab": {
          "base_uri": "https://localhost:8080/"
        },
        "outputId": "3e47c821-d88e-4ee1-d0d7-2cf46c45eabb"
      },
      "source": [
        "from koalanlp.types import POS\n",
        "from koalanlp.proc import Dictionary\n",
        "\n",
        "dictionary = Dictionary(API.EUNJEON)\n",
        "\n",
        "dictionary.addUserDictionary((\"메타버스\", POS.NNG))\n",
        "dictionary.addUserDictionary((\"확장현실\", POS.NNG), (\"메타버스\", POS.NNG))\n",
        "\n",
        "print(dictionary.getItems())"
      ],
      "execution_count": null,
      "outputs": [
        {
          "output_type": "stream",
          "name": "stdout",
          "text": [
            "[('메타버스', NNG), ('확장현실', NNG)]\n"
          ]
        }
      ]
    },
    {
      "cell_type": "code",
      "metadata": {
        "id": "y15KxaNe3PvU",
        "colab": {
          "base_uri": "https://localhost:8080/"
        },
        "outputId": "f63a5703-4706-4011-b071-d25c38e3c236"
      },
      "source": [
        "tagger = Tagger(API.EUNJEON)\n",
        "\n",
        "tagged = tagger.tag(text)\n",
        "\n",
        "print(tagged[0].singleLineString())"
      ],
      "execution_count": null,
      "outputs": [
        {
          "output_type": "stream",
          "name": "stdout",
          "text": [
            "최근/NNG 정부/NNG 주도/NNG 디지털/NNG 뉴딜/NNG 사업/NNG+이/VCP+ᆫ/ETM 확장현실/NNG (/SS XR/SL )/SS 메타버스/NNG 프로젝트/NNG+는/JX 증강/NNG+현실/NNG (/SS AR/SL )/SS 플랫폼/NNG 분야/NNG+의/JKG 주도/NNG 기업/NNG+이/JKS 추진/NNG+하/XSV+ᆯ/ETM 것/NNB+으로/JKB 예상/NNG+되/XSV+ᆫ다/EF ./SF\n"
          ]
        }
      ]
    },
    {
      "cell_type": "code",
      "metadata": {
        "id": "RCdC3m-VrDRF",
        "colab": {
          "base_uri": "https://localhost:8080/"
        },
        "outputId": "80573073-c42e-4793-c069-8577b0f53686"
      },
      "source": [
        "finalize()"
      ],
      "execution_count": null,
      "outputs": [
        {
          "output_type": "execute_result",
          "data": {
            "text/plain": [
              "True"
            ]
          },
          "metadata": {},
          "execution_count": 11
        }
      ]
    },
    {
      "cell_type": "code",
      "metadata": {
        "id": "Ls8oJZFukbk1"
      },
      "source": [],
      "execution_count": null,
      "outputs": []
    }
  ]
}